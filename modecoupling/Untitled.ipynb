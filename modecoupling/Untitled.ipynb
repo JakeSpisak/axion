{
 "cells": [
  {
   "cell_type": "code",
   "execution_count": 10,
   "metadata": {},
   "outputs": [
    {
     "name": "stdout",
     "output_type": "stream",
     "text": [
      "sources.fixed_sources_for_small_patches is used for fixed-source mask\n",
      "masked 4 fixed sources\n",
      "['PB1RA23HAB', 'PB1RA12HAB', 'PB1LST4p5']\n",
      "sources.fixed_sources_for_small_patches is used for fixed-source mask\n",
      "masked 4 fixed sources\n"
     ]
    },
    {
     "name": "stderr",
     "output_type": "stream",
     "text": [
      "/global/common/software/polar/.conda/envs/common-20190803-ab2-defaults-cray/lib/python2.7/site-packages/ipykernel_launcher.py:26: DeprecationWarning: unorderable dtypes; returning scalar but in the future this will be an error\n"
     ]
    },
    {
     "ename": "ZeroDivisionError",
     "evalue": "integer division or modulo by zero",
     "output_type": "error",
     "traceback": [
      "\u001b[0;31m\u001b[0m",
      "\u001b[0;31mZeroDivisionError\u001b[0mTraceback (most recent call last)",
      "\u001b[0;32m<ipython-input-10-84d76a4eeb51>\u001b[0m in \u001b[0;36m<module>\u001b[0;34m()\u001b[0m\n\u001b[1;32m     57\u001b[0m         \u001b[0mpmask2\u001b[0m \u001b[0;34m=\u001b[0m \u001b[0mcp\u001b[0m\u001b[0;34m.\u001b[0m\u001b[0mmake_pmask\u001b[0m\u001b[0;34m(\u001b[0m\u001b[0mday_path\u001b[0m\u001b[0;34m,\u001b[0m \u001b[0msource\u001b[0m\u001b[0;34m)\u001b[0m\u001b[0;34m\u001b[0m\u001b[0m\n\u001b[1;32m     58\u001b[0m         \u001b[0mmax_diffs\u001b[0m\u001b[0;34m.\u001b[0m\u001b[0mappend\u001b[0m\u001b[0;34m(\u001b[0m\u001b[0mcp\u001b[0m\u001b[0;34m.\u001b[0m\u001b[0mmax_diff\u001b[0m\u001b[0;34m(\u001b[0m\u001b[0mpmask1\u001b[0m\u001b[0;34m,\u001b[0m \u001b[0mpmask2\u001b[0m\u001b[0;34m,\u001b[0m \u001b[0mthresh\u001b[0m\u001b[0;34m)\u001b[0m\u001b[0;34m)\u001b[0m\u001b[0;34m\u001b[0m\u001b[0m\n\u001b[0;32m---> 59\u001b[0;31m         \u001b[0mavg_diffs\u001b[0m\u001b[0;34m.\u001b[0m\u001b[0mappend\u001b[0m\u001b[0;34m(\u001b[0m\u001b[0mavg_diff\u001b[0m\u001b[0;34m(\u001b[0m\u001b[0mpmask1\u001b[0m\u001b[0;34m,\u001b[0m \u001b[0mpmask2\u001b[0m\u001b[0;34m,\u001b[0m \u001b[0mthresh\u001b[0m\u001b[0;34m)\u001b[0m\u001b[0;34m)\u001b[0m\u001b[0;34m\u001b[0m\u001b[0m\n\u001b[0m\u001b[1;32m     60\u001b[0m \u001b[0;34m\u001b[0m\u001b[0m\n\u001b[1;32m     61\u001b[0m \u001b[0;31m# Plot the worst offenders for each patch\u001b[0m\u001b[0;34m\u001b[0m\u001b[0;34m\u001b[0m\u001b[0m\n",
      "\u001b[0;32m<ipython-input-10-84d76a4eeb51>\u001b[0m in \u001b[0;36mavg_diff\u001b[0;34m(pmask1, pmask2, thresh)\u001b[0m\n\u001b[1;32m     27\u001b[0m             \u001b[0mcounter\u001b[0m \u001b[0;34m+=\u001b[0m \u001b[0;36m1\u001b[0m\u001b[0;34m\u001b[0m\u001b[0m\n\u001b[1;32m     28\u001b[0m             \u001b[0msum_diff\u001b[0m \u001b[0;34m+=\u001b[0m \u001b[0mnp\u001b[0m\u001b[0;34m.\u001b[0m\u001b[0mabs\u001b[0m\u001b[0;34m(\u001b[0m\u001b[0mp1\u001b[0m\u001b[0;34m-\u001b[0m\u001b[0mp2\u001b[0m\u001b[0;34m)\u001b[0m\u001b[0;34m\u001b[0m\u001b[0m\n\u001b[0;32m---> 29\u001b[0;31m     \u001b[0;32mreturn\u001b[0m \u001b[0msum_diff\u001b[0m\u001b[0;34m/\u001b[0m\u001b[0mcounter\u001b[0m\u001b[0;34m\u001b[0m\u001b[0m\n\u001b[0m\u001b[1;32m     30\u001b[0m \u001b[0;34m\u001b[0m\u001b[0m\n\u001b[1;32m     31\u001b[0m \u001b[0minput_yaml\u001b[0m \u001b[0;34m=\u001b[0m \u001b[0;34m'inputs/check_pmasks.yaml'\u001b[0m\u001b[0;34m\u001b[0m\u001b[0m\n",
      "\u001b[0;31mZeroDivisionError\u001b[0m: integer division or modulo by zero"
     ]
    }
   ],
   "source": [
    "import numpy as np\n",
    "import matplotlib.pyplot as plt\n",
    "import matplotlib\n",
    "matplotlib.rcParams.update({'font.size': 16})\n",
    "from AnalysisBackend.hdf5 import modecoupling_hdf5 as mode\n",
    "from AnalysisBackend.hdf5 import window_hdf5\n",
    "import glob\n",
    "import sys\n",
    "import yaml\n",
    "import os\n",
    "import check_pmasks as cp\n",
    "\n",
    "def avg_diff(pmask1, pmask2, thresh):\n",
    "    \"\"\"\n",
    "    Get the average (absolute value) difference across all pixels between 2 pmasks.\n",
    "    INPUTS:\n",
    "    pmask1 (array)\n",
    "    pmask2 (array)\n",
    "    thresh (float): Only consider pixels with a pmask1 value > thresh\n",
    "    OUTPUTS:\n",
    "    Average abs(difference) (float)\n",
    "    \"\"\"\n",
    "    sum_diff = 0\n",
    "    counter = 0\n",
    "    for p1, p2 in zip(np.ndarray.flatten(pmask1), np.ndarray.flatten(pmask2)):\n",
    "        if p1>thresh:\n",
    "            counter += 1\n",
    "            sum_diff += np.abs(p1-p2)        \n",
    "    return sum_diff/counter\n",
    "\n",
    "input_yaml = 'inputs/check_pmasks.yaml'\n",
    "with open(input_yaml) as file:\n",
    "    inputs = yaml.load(file, Loader=yaml.FullLoader)\n",
    "\n",
    "hdf5 = inputs['hdf5']\n",
    "patches = inputs['patches']\n",
    "sources = inputs['sources']\n",
    "thresh = inputs['sources']\n",
    "plot_num = inputs['plot_num']\n",
    "output_dir = inputs['output_dir']\n",
    "if not os.path.exists(output_dir):\n",
    "    os.makedirs(output_dir)\n",
    "\n",
    "#Iterate over all patches\n",
    "for source, patch in zip(sources, patches):\n",
    "    coadd_path = \"/global/cscratch1/sd/jspisak/pipeline/data/sim_signal_only/{}/sim_signal_only/coadd/{}\".format(patch, hdf5)\n",
    "    days_dir = \"/global/cscratch1/sd/jspisak/pipeline/data/sim_signal_only/{}/sim_signal_only/\".format(patch)\n",
    "    days = [day_dir.split('/')[-1] for day_dir in glob.glob(days_dir + \"201*\")]\n",
    "    avg_diffs = []\n",
    "    max_diffs = []\n",
    "    pmask1 = cp.make_pmask(coadd_path, source)\n",
    "\n",
    "    #Iterate through each day in the patch and compute the max and average absolute value difference between pmasks \n",
    "    for day in days[0:4]:\n",
    "        day_path = days_dir + day + '/coadd/' + hdf5 \n",
    "        print(thresh)\n",
    "        pmask2 = cp.make_pmask(day_path, source)\n",
    "        max_diffs.append(cp.max_diff(pmask1, pmask2, thresh))\n",
    "        avg_diffs.append(avg_diff(pmask1, pmask2, thresh))\n",
    "\n",
    "# Plot the worst offenders for each patch\n",
    "worst_avg = np.flip(np.argsort(avg_diffs))[0:plot_num]\n",
    "worst_max = np.flip(np.argsort(max_diffs))[0:plot_num]\n",
    "for idx in np.unique(np.concatenate((worst_avg, worst_max), axis=0)):\n",
    "    day = days[idx]\n",
    "    day_path = days_dir + day + '/coadd/' + hdf5 \n",
    "    pmasks_plot_diff(coadd_path, day_path, source, day, output_file=\"{}/pmask_{}_{}\".format(output_dir, source, day))"
   ]
  },
  {
   "cell_type": "code",
   "execution_count": 8,
   "metadata": {},
   "outputs": [
    {
     "data": {
      "text/plain": [
       "<matplotlib.image.AxesImage at 0x2aaadaf56e10>"
      ]
     },
     "execution_count": 8,
     "metadata": {},
     "output_type": "execute_result"
    },
    {
     "data": {
      "image/png": "[encoded data removed]",
      "text/plain": [
       "<Figure size 432x288 with 1 Axes>"
      ]
     },
     "metadata": {
      "needs_background": "light"
     },
     "output_type": "display_data"
    }
   ],
   "source": [
    "plt.imshow(pmask1)"
   ]
  },
  {
   "cell_type": "code",
   "execution_count": null,
   "metadata": {},
   "outputs": [],
   "source": []
  }
 ],
 "metadata": {
  "kernelspec": {
   "display_name": "ABEnv",
   "language": "python",
   "name": "abenv"
  },
  "language_info": {
   "codemirror_mode": {
    "name": "ipython",
    "version": 2
   },
   "file_extension": ".py",
   "mimetype": "text/x-python",
   "name": "python",
   "nbconvert_exporter": "python",
   "pygments_lexer": "ipython2",
   "version": "2.7.16"
  }
 },
 "nbformat": 4,
 "nbformat_minor": 4
}
